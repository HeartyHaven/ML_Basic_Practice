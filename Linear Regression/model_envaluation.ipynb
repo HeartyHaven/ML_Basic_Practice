{
 "cells": [
  {
   "attachments": {},
   "cell_type": "markdown",
   "metadata": {},
   "source": [
    "# 机器学习实战入门：Scikit-Learn\n",
    "HAVEN 2023/7/7\n",
    "\n",
    "[sklearn](https://scikit-learn.org/stable/)是一个经典的机器学习算法库。里面包含了机器学习所需要用到的六大板块：分类、回归、聚类、降维、模型选择和数据的预处理。除了神经网络没有涉及之外，其他所有的功能均能够通过sklearn实现，所以是一个既能快速辅助开发，又能学习知识的工具包，对机器学习入门的同学很有帮助。\n",
    "\n",
    "这里，老师给出了使用sklearn的方法。当你想要使用一种算法或者模型的时候，可以查看api文档。文档中说明了每一个方法或类的属性、可用的参数、参数的默认值、参数的作用；建模之后可以对哪些属性进行调用；方法有什么作用；以及实际操作的演示代码examples。除此之外还能通过这个examples来学习sklearn针对各种特定背景下问题的解决方案，里面不仅仅包含sklearn，还有可视化的相关操作。从中可以学习到开展某一个项目研究应该遵循什么步骤，需要怎么做数据的分析和处理，应该采取什么模型等等；更重要的是提供了模板代码，你可以通过这些代码直接套用模板，形成漂亮的图片和高效的数据展示。\n",
    "\n",
    "![sklearn](1.png)"
   ]
  },
  {
   "attachments": {},
   "cell_type": "markdown",
   "metadata": {},
   "source": [
    "## 机器学习的sklearn实现\n",
    "下面我们通过这个程序来了解一下常见的模型评估方法。"
   ]
  },
  {
   "cell_type": "code",
   "execution_count": 96,
   "metadata": {},
   "outputs": [],
   "source": [
    "import numpy as np\n",
    "import os\n",
    "#用来提供访问操作系统功能的方法。\n",
    "%matplotlib inline\n",
    "#是 Jupyter Notebook 或者 JupyterLab 的一个魔法命令，用于指定在 Notebook 中显示 Matplotlib 绘图的方式。\n",
    "# matplotlib inline 表示将图像直接嵌入到 Notebook 中。\n",
    "import matplotlib.pyplot as plt\n",
    "plt.rcParams['axes.labelsize']=14\n",
    "plt.rcParams['xtick.labelsize']=12\n",
    "plt.rcParams['ytick.labelsize']=12\n",
    "#设置了 Matplotlib 的默认参数。\n",
    "# 这里分别设置了坐标轴标签的字体大小为 14，x 轴和 y 轴刻度标签的字体大小为 12。\n",
    "import warnings\n",
    "warnings.filterwarnings('ignore')\n",
    "#设置忽略警告信息。这里的作用是让程序在运行时不显示警告信息，\n",
    "#避免干扰可视化结果。\n",
    "np.random.seed(42)\n",
    "#设置 NumPy 的随机数种子，以便产生可重复的随机数序列。\n"
   ]
  },
  {
   "attachments": {},
   "cell_type": "markdown",
   "metadata": {},
   "source": [
    "**数据集读取**"
   ]
  },
  {
   "cell_type": "code",
   "execution_count": 58,
   "metadata": {},
   "outputs": [
    {
     "name": "stderr",
     "output_type": "stream",
     "text": [
      "d:\\LenovoSoftstore\\Install\\anaconda\\envs\\pytorch\\lib\\site-packages\\sklearn\\datasets\\_openml.py:1002: FutureWarning: The default value of `parser` will change from `'liac-arff'` to `'auto'` in 1.4. You can set `parser='auto'` to silence this warning. Therefore, an `ImportError` will be raised from 1.4 if the dataset is dense and pandas is not installed. Note that the pandas parser may return different data types. See the Notes Section in fetch_openml's API doc for details.\n",
      "  warn(\n"
     ]
    },
    {
     "data": {
      "text/html": [
       "<div>\n",
       "<style scoped>\n",
       "    .dataframe tbody tr th:only-of-type {\n",
       "        vertical-align: middle;\n",
       "    }\n",
       "\n",
       "    .dataframe tbody tr th {\n",
       "        vertical-align: top;\n",
       "    }\n",
       "\n",
       "    .dataframe thead th {\n",
       "        text-align: right;\n",
       "    }\n",
       "</style>\n",
       "<table border=\"1\" class=\"dataframe\">\n",
       "  <thead>\n",
       "    <tr style=\"text-align: right;\">\n",
       "      <th></th>\n",
       "      <th>pixel1</th>\n",
       "      <th>pixel2</th>\n",
       "      <th>pixel3</th>\n",
       "      <th>pixel4</th>\n",
       "      <th>pixel5</th>\n",
       "      <th>pixel6</th>\n",
       "      <th>pixel7</th>\n",
       "      <th>pixel8</th>\n",
       "      <th>pixel9</th>\n",
       "      <th>pixel10</th>\n",
       "      <th>...</th>\n",
       "      <th>pixel775</th>\n",
       "      <th>pixel776</th>\n",
       "      <th>pixel777</th>\n",
       "      <th>pixel778</th>\n",
       "      <th>pixel779</th>\n",
       "      <th>pixel780</th>\n",
       "      <th>pixel781</th>\n",
       "      <th>pixel782</th>\n",
       "      <th>pixel783</th>\n",
       "      <th>pixel784</th>\n",
       "    </tr>\n",
       "  </thead>\n",
       "  <tbody>\n",
       "    <tr>\n",
       "      <th>0</th>\n",
       "      <td>0.0</td>\n",
       "      <td>0.0</td>\n",
       "      <td>0.0</td>\n",
       "      <td>0.0</td>\n",
       "      <td>0.0</td>\n",
       "      <td>0.0</td>\n",
       "      <td>0.0</td>\n",
       "      <td>0.0</td>\n",
       "      <td>0.0</td>\n",
       "      <td>0.0</td>\n",
       "      <td>...</td>\n",
       "      <td>0.0</td>\n",
       "      <td>0.0</td>\n",
       "      <td>0.0</td>\n",
       "      <td>0.0</td>\n",
       "      <td>0.0</td>\n",
       "      <td>0.0</td>\n",
       "      <td>0.0</td>\n",
       "      <td>0.0</td>\n",
       "      <td>0.0</td>\n",
       "      <td>0.0</td>\n",
       "    </tr>\n",
       "    <tr>\n",
       "      <th>1</th>\n",
       "      <td>0.0</td>\n",
       "      <td>0.0</td>\n",
       "      <td>0.0</td>\n",
       "      <td>0.0</td>\n",
       "      <td>0.0</td>\n",
       "      <td>0.0</td>\n",
       "      <td>0.0</td>\n",
       "      <td>0.0</td>\n",
       "      <td>0.0</td>\n",
       "      <td>0.0</td>\n",
       "      <td>...</td>\n",
       "      <td>0.0</td>\n",
       "      <td>0.0</td>\n",
       "      <td>0.0</td>\n",
       "      <td>0.0</td>\n",
       "      <td>0.0</td>\n",
       "      <td>0.0</td>\n",
       "      <td>0.0</td>\n",
       "      <td>0.0</td>\n",
       "      <td>0.0</td>\n",
       "      <td>0.0</td>\n",
       "    </tr>\n",
       "    <tr>\n",
       "      <th>2</th>\n",
       "      <td>0.0</td>\n",
       "      <td>0.0</td>\n",
       "      <td>0.0</td>\n",
       "      <td>0.0</td>\n",
       "      <td>0.0</td>\n",
       "      <td>0.0</td>\n",
       "      <td>0.0</td>\n",
       "      <td>0.0</td>\n",
       "      <td>0.0</td>\n",
       "      <td>0.0</td>\n",
       "      <td>...</td>\n",
       "      <td>0.0</td>\n",
       "      <td>0.0</td>\n",
       "      <td>0.0</td>\n",
       "      <td>0.0</td>\n",
       "      <td>0.0</td>\n",
       "      <td>0.0</td>\n",
       "      <td>0.0</td>\n",
       "      <td>0.0</td>\n",
       "      <td>0.0</td>\n",
       "      <td>0.0</td>\n",
       "    </tr>\n",
       "    <tr>\n",
       "      <th>3</th>\n",
       "      <td>0.0</td>\n",
       "      <td>0.0</td>\n",
       "      <td>0.0</td>\n",
       "      <td>0.0</td>\n",
       "      <td>0.0</td>\n",
       "      <td>0.0</td>\n",
       "      <td>0.0</td>\n",
       "      <td>0.0</td>\n",
       "      <td>0.0</td>\n",
       "      <td>0.0</td>\n",
       "      <td>...</td>\n",
       "      <td>0.0</td>\n",
       "      <td>0.0</td>\n",
       "      <td>0.0</td>\n",
       "      <td>0.0</td>\n",
       "      <td>0.0</td>\n",
       "      <td>0.0</td>\n",
       "      <td>0.0</td>\n",
       "      <td>0.0</td>\n",
       "      <td>0.0</td>\n",
       "      <td>0.0</td>\n",
       "    </tr>\n",
       "    <tr>\n",
       "      <th>4</th>\n",
       "      <td>0.0</td>\n",
       "      <td>0.0</td>\n",
       "      <td>0.0</td>\n",
       "      <td>0.0</td>\n",
       "      <td>0.0</td>\n",
       "      <td>0.0</td>\n",
       "      <td>0.0</td>\n",
       "      <td>0.0</td>\n",
       "      <td>0.0</td>\n",
       "      <td>0.0</td>\n",
       "      <td>...</td>\n",
       "      <td>0.0</td>\n",
       "      <td>0.0</td>\n",
       "      <td>0.0</td>\n",
       "      <td>0.0</td>\n",
       "      <td>0.0</td>\n",
       "      <td>0.0</td>\n",
       "      <td>0.0</td>\n",
       "      <td>0.0</td>\n",
       "      <td>0.0</td>\n",
       "      <td>0.0</td>\n",
       "    </tr>\n",
       "    <tr>\n",
       "      <th>...</th>\n",
       "      <td>...</td>\n",
       "      <td>...</td>\n",
       "      <td>...</td>\n",
       "      <td>...</td>\n",
       "      <td>...</td>\n",
       "      <td>...</td>\n",
       "      <td>...</td>\n",
       "      <td>...</td>\n",
       "      <td>...</td>\n",
       "      <td>...</td>\n",
       "      <td>...</td>\n",
       "      <td>...</td>\n",
       "      <td>...</td>\n",
       "      <td>...</td>\n",
       "      <td>...</td>\n",
       "      <td>...</td>\n",
       "      <td>...</td>\n",
       "      <td>...</td>\n",
       "      <td>...</td>\n",
       "      <td>...</td>\n",
       "      <td>...</td>\n",
       "    </tr>\n",
       "    <tr>\n",
       "      <th>69995</th>\n",
       "      <td>0.0</td>\n",
       "      <td>0.0</td>\n",
       "      <td>0.0</td>\n",
       "      <td>0.0</td>\n",
       "      <td>0.0</td>\n",
       "      <td>0.0</td>\n",
       "      <td>0.0</td>\n",
       "      <td>0.0</td>\n",
       "      <td>0.0</td>\n",
       "      <td>0.0</td>\n",
       "      <td>...</td>\n",
       "      <td>0.0</td>\n",
       "      <td>0.0</td>\n",
       "      <td>0.0</td>\n",
       "      <td>0.0</td>\n",
       "      <td>0.0</td>\n",
       "      <td>0.0</td>\n",
       "      <td>0.0</td>\n",
       "      <td>0.0</td>\n",
       "      <td>0.0</td>\n",
       "      <td>0.0</td>\n",
       "    </tr>\n",
       "    <tr>\n",
       "      <th>69996</th>\n",
       "      <td>0.0</td>\n",
       "      <td>0.0</td>\n",
       "      <td>0.0</td>\n",
       "      <td>0.0</td>\n",
       "      <td>0.0</td>\n",
       "      <td>0.0</td>\n",
       "      <td>0.0</td>\n",
       "      <td>0.0</td>\n",
       "      <td>0.0</td>\n",
       "      <td>0.0</td>\n",
       "      <td>...</td>\n",
       "      <td>0.0</td>\n",
       "      <td>0.0</td>\n",
       "      <td>0.0</td>\n",
       "      <td>0.0</td>\n",
       "      <td>0.0</td>\n",
       "      <td>0.0</td>\n",
       "      <td>0.0</td>\n",
       "      <td>0.0</td>\n",
       "      <td>0.0</td>\n",
       "      <td>0.0</td>\n",
       "    </tr>\n",
       "    <tr>\n",
       "      <th>69997</th>\n",
       "      <td>0.0</td>\n",
       "      <td>0.0</td>\n",
       "      <td>0.0</td>\n",
       "      <td>0.0</td>\n",
       "      <td>0.0</td>\n",
       "      <td>0.0</td>\n",
       "      <td>0.0</td>\n",
       "      <td>0.0</td>\n",
       "      <td>0.0</td>\n",
       "      <td>0.0</td>\n",
       "      <td>...</td>\n",
       "      <td>0.0</td>\n",
       "      <td>0.0</td>\n",
       "      <td>0.0</td>\n",
       "      <td>0.0</td>\n",
       "      <td>0.0</td>\n",
       "      <td>0.0</td>\n",
       "      <td>0.0</td>\n",
       "      <td>0.0</td>\n",
       "      <td>0.0</td>\n",
       "      <td>0.0</td>\n",
       "    </tr>\n",
       "    <tr>\n",
       "      <th>69998</th>\n",
       "      <td>0.0</td>\n",
       "      <td>0.0</td>\n",
       "      <td>0.0</td>\n",
       "      <td>0.0</td>\n",
       "      <td>0.0</td>\n",
       "      <td>0.0</td>\n",
       "      <td>0.0</td>\n",
       "      <td>0.0</td>\n",
       "      <td>0.0</td>\n",
       "      <td>0.0</td>\n",
       "      <td>...</td>\n",
       "      <td>0.0</td>\n",
       "      <td>0.0</td>\n",
       "      <td>0.0</td>\n",
       "      <td>0.0</td>\n",
       "      <td>0.0</td>\n",
       "      <td>0.0</td>\n",
       "      <td>0.0</td>\n",
       "      <td>0.0</td>\n",
       "      <td>0.0</td>\n",
       "      <td>0.0</td>\n",
       "    </tr>\n",
       "    <tr>\n",
       "      <th>69999</th>\n",
       "      <td>0.0</td>\n",
       "      <td>0.0</td>\n",
       "      <td>0.0</td>\n",
       "      <td>0.0</td>\n",
       "      <td>0.0</td>\n",
       "      <td>0.0</td>\n",
       "      <td>0.0</td>\n",
       "      <td>0.0</td>\n",
       "      <td>0.0</td>\n",
       "      <td>0.0</td>\n",
       "      <td>...</td>\n",
       "      <td>0.0</td>\n",
       "      <td>0.0</td>\n",
       "      <td>0.0</td>\n",
       "      <td>0.0</td>\n",
       "      <td>0.0</td>\n",
       "      <td>0.0</td>\n",
       "      <td>0.0</td>\n",
       "      <td>0.0</td>\n",
       "      <td>0.0</td>\n",
       "      <td>0.0</td>\n",
       "    </tr>\n",
       "  </tbody>\n",
       "</table>\n",
       "<p>70000 rows × 784 columns</p>\n",
       "</div>"
      ],
      "text/plain": [
       "       pixel1  pixel2  pixel3  pixel4  pixel5  pixel6  pixel7  pixel8  pixel9  \\\n",
       "0         0.0     0.0     0.0     0.0     0.0     0.0     0.0     0.0     0.0   \n",
       "1         0.0     0.0     0.0     0.0     0.0     0.0     0.0     0.0     0.0   \n",
       "2         0.0     0.0     0.0     0.0     0.0     0.0     0.0     0.0     0.0   \n",
       "3         0.0     0.0     0.0     0.0     0.0     0.0     0.0     0.0     0.0   \n",
       "4         0.0     0.0     0.0     0.0     0.0     0.0     0.0     0.0     0.0   \n",
       "...       ...     ...     ...     ...     ...     ...     ...     ...     ...   \n",
       "69995     0.0     0.0     0.0     0.0     0.0     0.0     0.0     0.0     0.0   \n",
       "69996     0.0     0.0     0.0     0.0     0.0     0.0     0.0     0.0     0.0   \n",
       "69997     0.0     0.0     0.0     0.0     0.0     0.0     0.0     0.0     0.0   \n",
       "69998     0.0     0.0     0.0     0.0     0.0     0.0     0.0     0.0     0.0   \n",
       "69999     0.0     0.0     0.0     0.0     0.0     0.0     0.0     0.0     0.0   \n",
       "\n",
       "       pixel10  ...  pixel775  pixel776  pixel777  pixel778  pixel779  \\\n",
       "0          0.0  ...       0.0       0.0       0.0       0.0       0.0   \n",
       "1          0.0  ...       0.0       0.0       0.0       0.0       0.0   \n",
       "2          0.0  ...       0.0       0.0       0.0       0.0       0.0   \n",
       "3          0.0  ...       0.0       0.0       0.0       0.0       0.0   \n",
       "4          0.0  ...       0.0       0.0       0.0       0.0       0.0   \n",
       "...        ...  ...       ...       ...       ...       ...       ...   \n",
       "69995      0.0  ...       0.0       0.0       0.0       0.0       0.0   \n",
       "69996      0.0  ...       0.0       0.0       0.0       0.0       0.0   \n",
       "69997      0.0  ...       0.0       0.0       0.0       0.0       0.0   \n",
       "69998      0.0  ...       0.0       0.0       0.0       0.0       0.0   \n",
       "69999      0.0  ...       0.0       0.0       0.0       0.0       0.0   \n",
       "\n",
       "       pixel780  pixel781  pixel782  pixel783  pixel784  \n",
       "0           0.0       0.0       0.0       0.0       0.0  \n",
       "1           0.0       0.0       0.0       0.0       0.0  \n",
       "2           0.0       0.0       0.0       0.0       0.0  \n",
       "3           0.0       0.0       0.0       0.0       0.0  \n",
       "4           0.0       0.0       0.0       0.0       0.0  \n",
       "...         ...       ...       ...       ...       ...  \n",
       "69995       0.0       0.0       0.0       0.0       0.0  \n",
       "69996       0.0       0.0       0.0       0.0       0.0  \n",
       "69997       0.0       0.0       0.0       0.0       0.0  \n",
       "69998       0.0       0.0       0.0       0.0       0.0  \n",
       "69999       0.0       0.0       0.0       0.0       0.0  \n",
       "\n",
       "[70000 rows x 784 columns]"
      ]
     },
     "execution_count": 58,
     "metadata": {},
     "output_type": "execute_result"
    }
   ],
   "source": [
    "from sklearn.datasets import fetch_openml\n",
    "mnist=fetch_openml(name='mnist_784',version=1,cache=True)\n",
    "mnist\n"
   ]
  },
  {
   "cell_type": "code",
   "execution_count": 83,
   "metadata": {},
   "outputs": [
    {
     "data": {
      "text/plain": [
       "array(['5', '0', '4', ..., '4', '5', '6'], dtype=object)"
      ]
     },
     "execution_count": 83,
     "metadata": {},
     "output_type": "execute_result"
    }
   ],
   "source": [
    "X,y=mnist['data'],mnist['target']\n",
    "#默认的，数据放在data下，标签放在target下\n",
    "X=X.values#这个维度是(70000，784)\n",
    "y=np.array(y.values)\n",
    "#这里比较麻烦，因为最初返回的dataframe的seires格式，使用values只能返回df的array，还需要进一步用numpy转化为数组。\n",
    "y"
   ]
  },
  {
   "attachments": {},
   "cell_type": "markdown",
   "metadata": {},
   "source": [
    "![sample](2.png)\n",
    "\n",
    "如图是一张mnist中的手写图像。长28像素，宽28像素，由于是灰度图，所以颜色通道只有“灰度”一个，所以总维度数是28\\*28\\*1=784.一个像素点代表一个维度；X就存放着这些像素点的信息，y是其实际反映的数字。"
   ]
  },
  {
   "cell_type": "code",
   "execution_count": 84,
   "metadata": {},
   "outputs": [
    {
     "data": {
      "text/plain": [
       "numpy.ndarray"
      ]
     },
     "execution_count": 84,
     "metadata": {},
     "output_type": "execute_result"
    }
   ],
   "source": [
    "x_train,x_test,y_train,y_test=X[:60000],X[60000:],y[:60000],y[60000:]\n",
    "#高维数组的切分，在未指定其他维度的切分方式的时候，一般都是只横着切一大刀。\n",
    "#前60000个是训练集，后10000个是测试集(或者是验证集)\n",
    "type(y_train)"
   ]
  },
  {
   "attachments": {},
   "cell_type": "markdown",
   "metadata": {},
   "source": [
    "`np.random.permutation()` 总体来说他是一个随机排列函数,就是将输入的数据进行随机排列,官方文档指出,此函数只能针对一维数据随机排列,对于多维数据只能对第一维度的数据进行随机排列。\n",
    "\n",
    "简而言之：`np.random.permutation`函数的作用就是按照给定列表生成一个打乱后的随机列表,如果里面是个整数，那就是一个以它为上界的整数列表"
   ]
  },
  {
   "cell_type": "code",
   "execution_count": 85,
   "metadata": {},
   "outputs": [
    {
     "data": {
      "text/plain": [
       "array([33784,  3455, 22620, ..., 31231,  9043,  7530])"
      ]
     },
     "execution_count": 85,
     "metadata": {},
     "output_type": "execute_result"
    }
   ],
   "source": [
    "#shuffle\n",
    "import numpy as np\n",
    "#为什么要洗牌？为了消除数据的顺序对模型训练结果带来的影响。原始数据是按照顺序放在一起的。\n",
    "shuffle_index=np.random.permutation(60000)\n",
    "# shuffle_index.reshape(-1,1)\n",
    "shuffle_index"
   ]
  },
  {
   "attachments": {},
   "cell_type": "markdown",
   "metadata": {},
   "source": [
    "x_train 是一个 DataFrame，它包含多列数据，每一列都有一个列名。要访问 x_train 中的一行数据，您需要使用 .iloc 方法，并传递行索引。\n",
    "\n",
    "使用 DataFrame[x] 的形式访问一个 DataFrame 的默认行为是返回该 DataFrame 中名为 x 的列数据。这是因为在 pandas 中，DataFrame 是由多个 Series 组成的，每个 Series 都有一个列名，而 DataFrame 的列名就是各个 Series 的列名。"
   ]
  },
  {
   "cell_type": "code",
   "execution_count": 86,
   "metadata": {},
   "outputs": [
    {
     "data": {
      "text/plain": [
       "numpy.ndarray"
      ]
     },
     "execution_count": 86,
     "metadata": {},
     "output_type": "execute_result"
    }
   ],
   "source": [
    "#在一个列表里面套一个列表可以根据内层列表的元素作为索引返回对应元素构成的列表。\n",
    "x_train,y_train=x_train[shuffle_index],y_train[shuffle_index]\n",
    "type(y_train)"
   ]
  },
  {
   "attachments": {},
   "cell_type": "markdown",
   "metadata": {},
   "source": [
    "## 数据评估方法一：交叉验证\n",
    "**使用交叉验证**来进行模型的评估。\n",
    "\n",
    "![cross-validation](3.png)\n",
    "\n",
    "首先，对数据集进行切分，一部分是训练集，另一部分是测试集。训练集是实际上用到构建模型的数据；测试集不会用到。一般的比例是8：2.\n",
    "\n",
    "测试集是十分珍贵的，一般作为所有准备工作完毕之后，最后一次测试才用到，就像高考似的。在训练中可以进行一些模拟测试来在测试之前改进自己，就需要验证集。我们每次训练的时候都把训练集分成10份，拿出1份作为验证集。为了避免验证集的难度影响效果的评估，我们用一个10轮的循环，每次拿出一份作为验证集，剩下的作为训练集，我们做10次验证，这就是十折交叉验证。最后对每一次的准确率取平均值来预测模型的准确率，如果准确率过低，需要调整超参数，甚至更换模型来重新评估。最后拿测试集来下定论，测试集就相当于我们需要预测的任务，它的实际工作意义决定了它不能像验证集一样不停重来。"
   ]
  },
  {
   "cell_type": "code",
   "execution_count": 90,
   "metadata": {},
   "outputs": [
    {
     "data": {
      "text/plain": [
       "array([False, False, False, ..., False, False, False])"
      ]
     },
     "execution_count": 90,
     "metadata": {},
     "output_type": "execute_result"
    }
   ],
   "source": [
    "y_train5=(y_train=='5')#用小括号就直接返回数组，用中括号返回的就是加了一维的数组\n",
    "y_test5=(y_test=='5')\n",
    "#这里相当于是把一个十分类任务转化为一个二分类任务。y的值全部变成了true和false\n",
    "y_train5"
   ]
  },
  {
   "cell_type": "code",
   "execution_count": 91,
   "metadata": {},
   "outputs": [
    {
     "name": "stderr",
     "output_type": "stream",
     "text": [
      "d:\\LenovoSoftstore\\Install\\anaconda\\envs\\pytorch\\lib\\site-packages\\sklearn\\linear_model\\_stochastic_gradient.py:713: ConvergenceWarning: Maximum number of iteration reached before convergence. Consider increasing max_iter to improve the fit.\n",
      "  warnings.warn(\n"
     ]
    },
    {
     "data": {
      "text/html": [
       "<style>#sk-container-id-2 {color: black;}#sk-container-id-2 pre{padding: 0;}#sk-container-id-2 div.sk-toggleable {background-color: white;}#sk-container-id-2 label.sk-toggleable__label {cursor: pointer;display: block;width: 100%;margin-bottom: 0;padding: 0.3em;box-sizing: border-box;text-align: center;}#sk-container-id-2 label.sk-toggleable__label-arrow:before {content: \"▸\";float: left;margin-right: 0.25em;color: #696969;}#sk-container-id-2 label.sk-toggleable__label-arrow:hover:before {color: black;}#sk-container-id-2 div.sk-estimator:hover label.sk-toggleable__label-arrow:before {color: black;}#sk-container-id-2 div.sk-toggleable__content {max-height: 0;max-width: 0;overflow: hidden;text-align: left;background-color: #f0f8ff;}#sk-container-id-2 div.sk-toggleable__content pre {margin: 0.2em;color: black;border-radius: 0.25em;background-color: #f0f8ff;}#sk-container-id-2 input.sk-toggleable__control:checked~div.sk-toggleable__content {max-height: 200px;max-width: 100%;overflow: auto;}#sk-container-id-2 input.sk-toggleable__control:checked~label.sk-toggleable__label-arrow:before {content: \"▾\";}#sk-container-id-2 div.sk-estimator input.sk-toggleable__control:checked~label.sk-toggleable__label {background-color: #d4ebff;}#sk-container-id-2 div.sk-label input.sk-toggleable__control:checked~label.sk-toggleable__label {background-color: #d4ebff;}#sk-container-id-2 input.sk-hidden--visually {border: 0;clip: rect(1px 1px 1px 1px);clip: rect(1px, 1px, 1px, 1px);height: 1px;margin: -1px;overflow: hidden;padding: 0;position: absolute;width: 1px;}#sk-container-id-2 div.sk-estimator {font-family: monospace;background-color: #f0f8ff;border: 1px dotted black;border-radius: 0.25em;box-sizing: border-box;margin-bottom: 0.5em;}#sk-container-id-2 div.sk-estimator:hover {background-color: #d4ebff;}#sk-container-id-2 div.sk-parallel-item::after {content: \"\";width: 100%;border-bottom: 1px solid gray;flex-grow: 1;}#sk-container-id-2 div.sk-label:hover label.sk-toggleable__label {background-color: #d4ebff;}#sk-container-id-2 div.sk-serial::before {content: \"\";position: absolute;border-left: 1px solid gray;box-sizing: border-box;top: 0;bottom: 0;left: 50%;z-index: 0;}#sk-container-id-2 div.sk-serial {display: flex;flex-direction: column;align-items: center;background-color: white;padding-right: 0.2em;padding-left: 0.2em;position: relative;}#sk-container-id-2 div.sk-item {position: relative;z-index: 1;}#sk-container-id-2 div.sk-parallel {display: flex;align-items: stretch;justify-content: center;background-color: white;position: relative;}#sk-container-id-2 div.sk-item::before, #sk-container-id-2 div.sk-parallel-item::before {content: \"\";position: absolute;border-left: 1px solid gray;box-sizing: border-box;top: 0;bottom: 0;left: 50%;z-index: -1;}#sk-container-id-2 div.sk-parallel-item {display: flex;flex-direction: column;z-index: 1;position: relative;background-color: white;}#sk-container-id-2 div.sk-parallel-item:first-child::after {align-self: flex-end;width: 50%;}#sk-container-id-2 div.sk-parallel-item:last-child::after {align-self: flex-start;width: 50%;}#sk-container-id-2 div.sk-parallel-item:only-child::after {width: 0;}#sk-container-id-2 div.sk-dashed-wrapped {border: 1px dashed gray;margin: 0 0.4em 0.5em 0.4em;box-sizing: border-box;padding-bottom: 0.4em;background-color: white;}#sk-container-id-2 div.sk-label label {font-family: monospace;font-weight: bold;display: inline-block;line-height: 1.2em;}#sk-container-id-2 div.sk-label-container {text-align: center;}#sk-container-id-2 div.sk-container {/* jupyter's `normalize.less` sets `[hidden] { display: none; }` but bootstrap.min.css set `[hidden] { display: none !important; }` so we also need the `!important` here to be able to override the default hidden behavior on the sphinx rendered scikit-learn.org. See: https://github.com/scikit-learn/scikit-learn/issues/21755 */display: inline-block !important;position: relative;}#sk-container-id-2 div.sk-text-repr-fallback {display: none;}</style><div id=\"sk-container-id-2\" class=\"sk-top-container\"><div class=\"sk-text-repr-fallback\"><pre>SGDClassifier(max_iter=10, random_state=42)</pre><b>In a Jupyter environment, please rerun this cell to show the HTML representation or trust the notebook. <br />On GitHub, the HTML representation is unable to render, please try loading this page with nbviewer.org.</b></div><div class=\"sk-container\" hidden><div class=\"sk-item\"><div class=\"sk-estimator sk-toggleable\"><input class=\"sk-toggleable__control sk-hidden--visually\" id=\"sk-estimator-id-2\" type=\"checkbox\" checked><label for=\"sk-estimator-id-2\" class=\"sk-toggleable__label sk-toggleable__label-arrow\">SGDClassifier</label><div class=\"sk-toggleable__content\"><pre>SGDClassifier(max_iter=10, random_state=42)</pre></div></div></div></div></div>"
      ],
      "text/plain": [
       "SGDClassifier(max_iter=10, random_state=42)"
      ]
     },
     "execution_count": 91,
     "metadata": {},
     "output_type": "execute_result"
    }
   ],
   "source": [
    "from sklearn.linear_model import SGDClassifier#这里导入了一个线性分类器，用SGD做优化\n",
    "sgd_clf=SGDClassifier(max_iter=10,random_state=42)#还是生成一个可重复的随机序列\n",
    "sgd_clf.fit(x_train,y_train5)#训练函数，传入一个x，传入一个对应的y就可以进行训练，结果放在这个分类器对象中。"
   ]
  },
  {
   "cell_type": "code",
   "execution_count": 93,
   "metadata": {},
   "outputs": [
    {
     "data": {
      "text/plain": [
       "array([False])"
      ]
     },
     "execution_count": 93,
     "metadata": {},
     "output_type": "execute_result"
    }
   ],
   "source": [
    "#观察一下api文档，里面的predict函数可以直接用得到的模型进行训练。\n",
    "sgd_clf.predict(x_test[[500]])#注意这里应该套一层括号才能得到一个二维数组，格式才符合模型要求"
   ]
  },
  {
   "cell_type": "code",
   "execution_count": 94,
   "metadata": {},
   "outputs": [
    {
     "data": {
      "text/plain": [
       "'3'"
      ]
     },
     "execution_count": 94,
     "metadata": {},
     "output_type": "execute_result"
    }
   ],
   "source": [
    "y_test[500]"
   ]
  },
  {
   "attachments": {},
   "cell_type": "markdown",
   "metadata": {},
   "source": [
    "这样就完成了训练。从总体上来看，整个程序，数据的获取和处理占用了绝大部分的篇幅，但是最终的训练和预测仅仅只用了两三行代码，所以可以说非常的方便。但是理解整个算法的运行过程对使用这些接口还是非常有帮助的。\n",
    "\n",
    "同样使用api文档，我们可以找到一个十折交叉验证的接口`cross_val_score`。我们直接复制这个示例程序。"
   ]
  },
  {
   "cell_type": "code",
   "execution_count": 98,
   "metadata": {},
   "outputs": [
    {
     "data": {
      "text/plain": [
       "0.9561999999999999"
      ]
     },
     "execution_count": 98,
     "metadata": {},
     "output_type": "execute_result"
    }
   ],
   "source": [
    "from sklearn.model_selection import cross_val_score\n",
    "np.mean(cross_val_score(sgd_clf,x_train,y_train5,cv=3,scoring='accuracy'))#第一个参数就是我们所使用的模型，这里是用的梯度下降模型\n",
    "#然后cv就是进行几折交叉验证，scoring就是最后采用何种评估方式，这里用accuracy就是结果的准确率来评估。\n",
    "#结果是每一折的准确率，返回一个数组。"
   ]
  },
  {
   "attachments": {},
   "cell_type": "markdown",
   "metadata": {},
   "source": [
    "除此之外，我们还可以自行交叉验证。sklearn里面提供了切分数据集的手段，比如这个kfold方法就可以试一下。"
   ]
  },
  {
   "cell_type": "code",
   "execution_count": 109,
   "metadata": {},
   "outputs": [
    {
     "data": {
      "text/plain": [
       "[0.9597, 0.9651, 0.92875]"
      ]
     },
     "execution_count": 109,
     "metadata": {},
     "output_type": "execute_result"
    }
   ],
   "source": [
    "from sklearn.model_selection import StratifiedKFold\n",
    "from sklearn.base import clone\n",
    "kfold=StratifiedKFold(n_splits=3,shuffle=True,random_state=42)#设置一个切分机器，用于生成可靠的分隔数据\n",
    "acc=[]\n",
    "for train_index,test_index in kfold.split(x_train,y_train):\n",
    "    clone_clf=clone(sgd_clf)#每一折都要用完全相同的模型进行测试，而不应该有任何先后顺序，因为模型一直在变\n",
    "    x_train_fold=x_train[train_index]\n",
    "    y_train_fold=y_train5[train_index]\n",
    "    x_test_fold=x_train[test_index]\n",
    "    y_test_fold=y_train5[test_index]#得到了每一折的训练和测试数据，记得交叉验证全部都是在训练集上进行的\n",
    "    clone_clf.fit(x_train_fold,y_train_fold)\n",
    "    y_pred=clone_clf.predict(x_test_fold)\n",
    "    n_correct=sum(y_pred==y_test_fold)\n",
    "    #这里一开始报错bool object is not callable，是因为后面这个ytest出了问题，选错对象了。\n",
    "    #那这个时候括号里就是一个false值了，因为无法统计从而得到数组。\n",
    "    acc.append(n_correct/len(y_pred))\n",
    "acc"
   ]
  },
  {
   "attachments": {},
   "cell_type": "markdown",
   "metadata": {},
   "source": [
    "# 模型评估方法二：混淆矩阵\n",
    "混淆矩阵就是那个阴阳与正负性所组成的表格，从中引出了一个特性叫做召回率，指的是某一类样本中正确地识别出了百分之几。\n",
    "\n",
    "![recall](4.png)"
   ]
  },
  {
   "cell_type": "code",
   "execution_count": 110,
   "metadata": {},
   "outputs": [
    {
     "data": {
      "text/plain": [
       "(60000,)"
      ]
     },
     "execution_count": 110,
     "metadata": {},
     "output_type": "execute_result"
    }
   ],
   "source": [
    "from sklearn.model_selection import cross_val_predict\n",
    "y_train_pred=cross_val_predict(sgd_clf,x_train,y_train5,cv=3)\n",
    "y_train_pred.shape"
   ]
  },
  {
   "attachments": {},
   "cell_type": "markdown",
   "metadata": {},
   "source": [
    "这个60000虽然确实跟训练集一样多，但是产生方式不一样：这个是分别把三次交叉验证得到的预测值放在一起了，而正好所有的验证集包含了全集，所以最终也得是60000."
   ]
  },
  {
   "cell_type": "code",
   "execution_count": 111,
   "metadata": {},
   "outputs": [
    {
     "data": {
      "text/plain": [
       "(60000, 784)"
      ]
     },
     "execution_count": 111,
     "metadata": {},
     "output_type": "execute_result"
    }
   ],
   "source": [
    "x_train.shape"
   ]
  },
  {
   "cell_type": "code",
   "execution_count": 112,
   "metadata": {},
   "outputs": [
    {
     "data": {
      "text/plain": [
       "array([[54391,   188],\n",
       "       [ 2440,  2981]], dtype=int64)"
      ]
     },
     "execution_count": 112,
     "metadata": {},
     "output_type": "execute_result"
    }
   ],
   "source": [
    "#现在得到了预测的结果。混淆矩阵可以在sklearn的matrics.confusion_matrix中得到体现。\n",
    "from sklearn.metrics import confusion_matrix\n",
    "confusion_matrix(y_train5,y_train_pred)"
   ]
  },
  {
   "attachments": {},
   "cell_type": "markdown",
   "metadata": {},
   "source": [
    "这个函数能够直接得到一个矩阵，分别表示从上到下，从左到右分别是：**TN,FP,FN,TP**.这里就表示有54391个数字正确地判断为“不是5”，188个数字错误地被判断为“是5”（本来不是5）；2440个数字错误地判断为“不是5”（本来是5），2981个数字正确地被判断为“是5”.\n",
    "\n",
    "一个完美的训练应该让右上和左下尽可能小。\n",
    "\n",
    "混淆矩阵在二分类问题中使用比较多，在多分类问题上，由于确实不好构建这种矩阵，一般来说不用，或者是将子问题转化为二分类问题来生成。\n",
    "\n",
    "其运算公式是：\n",
    "\n",
    "$$ precision=TP/(TP+FP) $$\n",
    "$$ recall=TP/(TP+FN) $$\n",
    "\n",
    "要想便捷地计算这两个值，可以导入sklearn中的metrics.precision_score和metrics.recallscore。"
   ]
  },
  {
   "cell_type": "code",
   "execution_count": 119,
   "metadata": {},
   "outputs": [
    {
     "data": {
      "text/plain": [
       "(0.9406752918901862, 0.549898542704298)"
      ]
     },
     "execution_count": 119,
     "metadata": {},
     "output_type": "execute_result"
    }
   ],
   "source": [
    "from sklearn.metrics import precision_score\n",
    "from sklearn.metrics import recall_score\n",
    "precision=precision_score(y_train5,y_train_pred)\n",
    "recall=recall_score(y_train5,y_train_pred)\n",
    "precision,recall"
   ]
  },
  {
   "attachments": {},
   "cell_type": "markdown",
   "metadata": {},
   "source": [
    "看来不太精确但是召回率不错，说明大部分是5的都找到了。\n",
    "\n",
    "那有没有更好的评估标准能够不仅包含精确度还包含召回率呢？有的，它被称为F1-score。F1-score是上述两个指标的**调和平均**，也就是平滑掉了较低的指标对结果评估产生的较大影响。\n",
    "\n",
    "![F1](5.png)"
   ]
  },
  {
   "cell_type": "code",
   "execution_count": 117,
   "metadata": {},
   "outputs": [
    {
     "data": {
      "text/plain": [
       "0.6940628637951105"
      ]
     },
     "execution_count": 117,
     "metadata": {},
     "output_type": "execute_result"
    }
   ],
   "source": [
    "from sklearn.metrics import f1_score\n",
    "f1_score(y_train5,y_train_pred)"
   ]
  },
  {
   "attachments": {},
   "cell_type": "markdown",
   "metadata": {},
   "source": [
    "除此之外，SGDClassifier的分类依据是：对一个样本进行打分，根据得分情况分类。有时候我们不想只看到结果，我们还想看到到底打了多少分，然后自己制定一个分类策略，所以可以使用分类器下的一个方法叫做decision_function，它能够帮我们返回预测的score。"
   ]
  },
  {
   "cell_type": "code",
   "execution_count": 121,
   "metadata": {},
   "outputs": [
    {
     "data": {
      "text/plain": [
       "array([-116095.08767003])"
      ]
     },
     "execution_count": 121,
     "metadata": {},
     "output_type": "execute_result"
    }
   ],
   "source": [
    "yscores=sgd_clf.decision_function([X[30000]])\n",
    "yscores"
   ]
  },
  {
   "attachments": {},
   "cell_type": "markdown",
   "metadata": {},
   "source": [
    "现在我们想自己制定一个规则（阈值），在阈值之内的被分为正类，阈值之外的被分为负类。"
   ]
  },
  {
   "cell_type": "code",
   "execution_count": 123,
   "metadata": {},
   "outputs": [
    {
     "data": {
      "text/plain": [
       "array([False])"
      ]
     },
     "execution_count": 123,
     "metadata": {},
     "output_type": "execute_result"
    }
   ],
   "source": [
    "#阈值这里放在0\n",
    "threshold=0\n",
    "y_pred=(yscores>threshold)\n",
    "y_pred"
   ]
  },
  {
   "attachments": {},
   "cell_type": "markdown",
   "metadata": {},
   "source": [
    "下图生动反映了阈值对结果的影响。横轴是不同的图像得分情况的排列，竖线是假定的阈值，在每一个阈值上都标注了此处计算所得到的精确率和召回率。\n",
    "\n",
    "![threshold](6.png)\n",
    "\n",
    "\n",
    "我们通过调用模型的desicion-function函数来返回每一个实例的得分情况。"
   ]
  },
  {
   "cell_type": "code",
   "execution_count": 125,
   "metadata": {},
   "outputs": [
    {
     "data": {
      "text/plain": [
       "array([-280920.93193717, -127407.93065787, -422913.15635667, ...,\n",
       "       -115808.7972763 , -378976.18672115, -201731.03149634])"
      ]
     },
     "execution_count": 125,
     "metadata": {},
     "output_type": "execute_result"
    }
   ],
   "source": [
    "y_scores=cross_val_predict(sgd_clf,x_train,y_train5,cv=3,method='decision_function')\n",
    "#通过指定调用对象的方法，让其执行决策函数而不是预测函数，就能够得到所有实例的得分情况。(默认是预测函数)\n",
    "y_scores"
   ]
  },
  {
   "cell_type": "code",
   "execution_count": 168,
   "metadata": {},
   "outputs": [
    {
     "data": {
      "text/plain": [
       "(60000,)"
      ]
     },
     "execution_count": 168,
     "metadata": {},
     "output_type": "execute_result"
    }
   ],
   "source": [
    "from sklearn.metrics import precision_recall_curve\n",
    "precision, recall, thresholds = precision_recall_curve(y_train5, y_scores)\n",
    "thresholds.shape"
   ]
  },
  {
   "cell_type": "code",
   "execution_count": 169,
   "metadata": {},
   "outputs": [
    {
     "data": {
      "text/plain": [
       "(60001,)"
      ]
     },
     "execution_count": 169,
     "metadata": {},
     "output_type": "execute_result"
    }
   ],
   "source": [
    "precision.shape"
   ]
  },
  {
   "cell_type": "code",
   "execution_count": 170,
   "metadata": {},
   "outputs": [
    {
     "data": {
      "text/plain": [
       "(60001,)"
      ]
     },
     "execution_count": 170,
     "metadata": {},
     "output_type": "execute_result"
    }
   ],
   "source": [
    "recall.shape\n",
    "#多一个是因为阈值相当于切一刀，最后会多出来这么一段，也要计算精度和召回率"
   ]
  },
  {
   "attachments": {},
   "cell_type": "markdown",
   "metadata": {},
   "source": [
    "这里默认把每一种元素的值都设置为了阈值，函数会在这些阈值之下尝试。"
   ]
  },
  {
   "cell_type": "code",
   "execution_count": 176,
   "metadata": {},
   "outputs": [
    {
     "data": {
      "image/png": "[encoded data removed]",
      "text/plain": [
       "<Figure size 400x200 with 1 Axes>"
      ]
     },
     "metadata": {},
     "output_type": "display_data"
    }
   ],
   "source": [
    "def plot_Precision_Recall(precision,recall,threshold):\n",
    "    plt.plot(\n",
    "        threshold,\n",
    "        precision[:-1],\n",
    "        \"b--\",\n",
    "        label='Precision'\n",
    "    )\n",
    "    plt.plot(\n",
    "        threshold,\n",
    "        recall[:-1],\n",
    "        \"r\",\n",
    "        label='Recall'\n",
    "    )\n",
    "    plt.xticks(size=6)\n",
    "    plt.yticks(size=6)\n",
    "    plt.xlabel(\"Threashold\",fontsize=10)\n",
    "    plt.legend(loc='upper left',fontsize=6)\n",
    "    plt.ylim([0,1])\n",
    "plt.figure(figsize=(4,2))\n",
    "plot_Precision_Recall(precision,recall,thresholds)\n",
    "plt.xlim([-350000,200000])\n",
    "plt.show()"
   ]
  },
  {
   "attachments": {},
   "cell_type": "markdown",
   "metadata": {},
   "source": [
    "可以发现在不同的阈值之下，精度与阈值永远都不能达到共赢。这是一个trade-off.\n",
    "\n",
    "既然如此，我们怎么判断什么时候最好呢？这就要引出一个东西叫做**ROC曲线**。"
   ]
  },
  {
   "attachments": {},
   "cell_type": "markdown",
   "metadata": {},
   "source": [
    "## 模型评估方法三：ROC curves"
   ]
  },
  {
   "attachments": {},
   "cell_type": "markdown",
   "metadata": {},
   "source": [
    "ROC曲线其实就是在不同阈值之下TPR和FPR的关系：TPR是说所有的正类里面，确实正确识别出来了百分之几；FPR是说所有分类后的负类中，原本应该属于正类的占百分之几。\n",
    "$$TPR=TP/(TP+FN)$$\n",
    "$$FPR=FP/(TN+FP)$$\n",
    "最终，得到的理应是一个增长的曲线。y轴：TPR，x轴：FPR。这是因为：FPR越大，说明错分为正类的就越多，那么从一定程度上讲，正确分为正类的也应该越多，因为如果模型本身没有出错的话，错误分为正类的增多代表着总体分为正类的增多。最夸张的就是：所有的负类都分成正类，那么其实所有的样本全部分成正类了。"
   ]
  },
  {
   "cell_type": "code",
   "execution_count": 158,
   "metadata": {},
   "outputs": [],
   "source": [
    "from sklearn.metrics import roc_curve\n",
    "fpr,tpr,thresholds=roc_curve(y_train5,y_scores)\n",
    "#之所以fpr,tpr里面都不止1个值，是因为这个函数内置的就是用所有的threshold做实验，从而扩大了样本总量"
   ]
  },
  {
   "cell_type": "code",
   "execution_count": 159,
   "metadata": {},
   "outputs": [
    {
     "data": {
      "image/png": "[encoded data removed]",
      "text/plain": [
       "<Figure size 400x300 with 1 Axes>"
      ]
     },
     "metadata": {},
     "output_type": "display_data"
    }
   ],
   "source": [
    "def ploc_ROC(fpr,tpr,label='None'):\n",
    "    plt.plot(fpr,tpr,label=label)#画一个曲线，参数顺序是x-y-z。\n",
    "    plt.plot([0,1],[0,1],'k--')#这个是参考线：对角线(也就是没有模型瞎蒙有50%的几率分对或者分错)\n",
    "    plt.axis([0,1,0,1])#规定了坐标轴的范围：默认轴的顺序是x-y-z，最小和最大写到同一个列表中。\n",
    "    plt.xlabel('FPR',fontsize=16)\n",
    "    plt.ylabel('TPR',fontsize=16)\n",
    "plt.figure(figsize=(4,3))#相当于是创建了一个画板，后面的操作都是基于这个画板作画\n",
    "ploc_ROC(fpr,tpr)\n",
    "plt.show()"
   ]
  },
  {
   "attachments": {},
   "cell_type": "markdown",
   "metadata": {},
   "source": [
    "最后我们给出一个评估模型的最终的标准：AUC（ROC的线下面积），我们的原则是ROC的拐点越接近左上就说明模型越好，因为这说明模型离着纯随机越远,划分效果越好。为了衡量离得到底多远，我们根据ROC的特性决定采用AUC评估模型。完美分类器AUC=1，而纯随机分类器AUC=0.5。sklearn中可以使用下面这个求AUC的函数。"
   ]
  },
  {
   "cell_type": "code",
   "execution_count": 177,
   "metadata": {},
   "outputs": [
    {
     "data": {
      "text/plain": [
       "0.9626072571283928"
      ]
     },
     "execution_count": 177,
     "metadata": {},
     "output_type": "execute_result"
    }
   ],
   "source": [
    "from sklearn.metrics import roc_auc_score\n",
    "roc_auc_score(y_train5,y_scores)"
   ]
  },
  {
   "attachments": {},
   "cell_type": "markdown",
   "metadata": {},
   "source": [
    "## 结语\n",
    "在机器学习的模型评估方法中，选择哪种评估指标取决于你的具体问题和数据集的特点。\n",
    "\n",
    "**F1-score**：F1-score是一种综合考虑了分类器的精度和召回率的评估指标。如果你的问题是分类问题，并且类别分布不平衡，那么F1-score是一个很好的选择。例如，对于医学诊断中的异常检测问题，异常情况可能非常少，此时使用F1-score可以更好地评估模型的性能。\n",
    "\n",
    "**交叉验证**：交叉验证是一种评估模型性能的方法，其基本思想是将数据集分成若干个部分，每次使用其中一部分作为测试集，其余部分作为训练集来训练和评估模型，并重复多次以评估模型的泛化性能。如果你的数据集较小，或者你希望更好地评估模型的泛化性能，那么交叉验证是一个不错的选择。\n",
    "\n",
    "**AUC**：AUC是一种用于评估二分类器性能的指标，其表示了ROC曲线下的面积。如果你的问题是二分类问题，并且你关心的是分类器在不同阈值下的性能，那么AUC是一个很好的选择。例如，在广告点击率预测中，你可能关心的是分类器在不同的阈值下的预测准确率，此时可以使用AUC来评估模型的性能。\n",
    "\n",
    "综上所述，选择哪种评估指标取决于你的具体问题和数据集的特点。在实际应用中，你可以根据需要结合使用不同的评估指标来全面评估模型的性能。"
   ]
  }
 ],
 "metadata": {
  "kernelspec": {
   "display_name": "myenv",
   "language": "python",
   "name": "python3"
  },
  "language_info": {
   "codemirror_mode": {
    "name": "ipython",
    "version": 3
   },
   "file_extension": ".py",
   "mimetype": "text/x-python",
   "name": "python",
   "nbconvert_exporter": "python",
   "pygments_lexer": "ipython3",
   "version": "3.9.12"
  },
  "orig_nbformat": 4
 },
 "nbformat": 4,
 "nbformat_minor": 2
}
